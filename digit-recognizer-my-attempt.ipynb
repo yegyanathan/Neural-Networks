{
 "cells": [
  {
   "cell_type": "code",
   "execution_count": 1,
   "id": "fc94b99d",
   "metadata": {
    "_cell_guid": "b1076dfc-b9ad-4769-8c92-a6c4dae69d19",
    "_uuid": "8f2839f25d086af736a60e9eeb907d3b93b6e0e5",
    "execution": {
     "iopub.execute_input": "2022-02-18T09:49:12.130533Z",
     "iopub.status.busy": "2022-02-18T09:49:12.129167Z",
     "iopub.status.idle": "2022-02-18T09:49:12.141944Z",
     "shell.execute_reply": "2022-02-18T09:49:12.142631Z",
     "shell.execute_reply.started": "2022-02-18T09:45:06.843705Z"
    },
    "papermill": {
     "duration": 0.032393,
     "end_time": "2022-02-18T09:49:12.142945",
     "exception": false,
     "start_time": "2022-02-18T09:49:12.110552",
     "status": "completed"
    },
    "tags": []
   },
   "outputs": [
    {
     "name": "stdout",
     "output_type": "stream",
     "text": [
      "/kaggle/input/digit-recognizer/sample_submission.csv\n",
      "/kaggle/input/digit-recognizer/train.csv\n",
      "/kaggle/input/digit-recognizer/test.csv\n"
     ]
    }
   ],
   "source": [
    "# This Python 3 environment comes with many helpful analytics libraries installed\n",
    "# It is defined by the kaggle/python Docker image: https://github.com/kaggle/docker-python\n",
    "# For example, here's several helpful packages to load\n",
    "\n",
    "import numpy as np # linear algebra\n",
    "import pandas as pd # data processing, CSV file I/O (e.g. pd.read_csv)\n",
    "\n",
    "# Input data files are available in the read-only \"../input/\" directory\n",
    "# For example, running this (by clicking run or pressing Shift+Enter) will list all files under the input directory\n",
    "\n",
    "import os\n",
    "for dirname, _, filenames in os.walk('/kaggle/input'):\n",
    "    for filename in filenames:\n",
    "        print(os.path.join(dirname, filename))\n",
    "\n",
    "# You can write up to 20GB to the current directory (/kaggle/working/) that gets preserved as output when you create a version using \"Save & Run All\" \n",
    "# You can also write temporary files to /kaggle/temp/, but they won't be saved outside of the current session"
   ]
  },
  {
   "cell_type": "code",
   "execution_count": 2,
   "id": "91d6840f",
   "metadata": {
    "execution": {
     "iopub.execute_input": "2022-02-18T09:49:12.177374Z",
     "iopub.status.busy": "2022-02-18T09:49:12.176596Z",
     "iopub.status.idle": "2022-02-18T09:49:17.892993Z",
     "shell.execute_reply": "2022-02-18T09:49:17.893674Z",
     "shell.execute_reply.started": "2022-02-18T09:45:06.864408Z"
    },
    "papermill": {
     "duration": 5.735929,
     "end_time": "2022-02-18T09:49:17.893915",
     "exception": false,
     "start_time": "2022-02-18T09:49:12.157986",
     "status": "completed"
    },
    "tags": []
   },
   "outputs": [],
   "source": [
    "import tensorflow as tf\n",
    "from tensorflow import keras\n",
    "\n",
    "import matplotlib.pyplot as plt\n",
    "from PIL import Image as im"
   ]
  },
  {
   "cell_type": "code",
   "execution_count": 3,
   "id": "bd93d512",
   "metadata": {
    "execution": {
     "iopub.execute_input": "2022-02-18T09:49:17.927673Z",
     "iopub.status.busy": "2022-02-18T09:49:17.926376Z",
     "iopub.status.idle": "2022-02-18T09:49:21.847302Z",
     "shell.execute_reply": "2022-02-18T09:49:21.846099Z",
     "shell.execute_reply.started": "2022-02-18T09:45:06.871891Z"
    },
    "papermill": {
     "duration": 3.938814,
     "end_time": "2022-02-18T09:49:21.847479",
     "exception": false,
     "start_time": "2022-02-18T09:49:17.908665",
     "status": "completed"
    },
    "tags": []
   },
   "outputs": [
    {
     "data": {
      "text/plain": [
       "Index(['label', 'pixel0', 'pixel1', 'pixel2', 'pixel3', 'pixel4', 'pixel5',\n",
       "       'pixel6', 'pixel7', 'pixel8',\n",
       "       ...\n",
       "       'pixel774', 'pixel775', 'pixel776', 'pixel777', 'pixel778', 'pixel779',\n",
       "       'pixel780', 'pixel781', 'pixel782', 'pixel783'],\n",
       "      dtype='object', length=785)"
      ]
     },
     "execution_count": 3,
     "metadata": {},
     "output_type": "execute_result"
    }
   ],
   "source": [
    "df = pd.read_csv(\"../input/digit-recognizer/train.csv\")\n",
    "df.columns"
   ]
  },
  {
   "cell_type": "code",
   "execution_count": 4,
   "id": "5307f2d9",
   "metadata": {
    "execution": {
     "iopub.execute_input": "2022-02-18T09:49:21.887656Z",
     "iopub.status.busy": "2022-02-18T09:49:21.886707Z",
     "iopub.status.idle": "2022-02-18T09:49:22.023058Z",
     "shell.execute_reply": "2022-02-18T09:49:22.022478Z",
     "shell.execute_reply.started": "2022-02-18T09:45:10.034780Z"
    },
    "papermill": {
     "duration": 0.160531,
     "end_time": "2022-02-18T09:49:22.023212",
     "exception": false,
     "start_time": "2022-02-18T09:49:21.862681",
     "status": "completed"
    },
    "tags": []
   },
   "outputs": [
    {
     "data": {
      "text/html": [
       "<div>\n",
       "<style scoped>\n",
       "    .dataframe tbody tr th:only-of-type {\n",
       "        vertical-align: middle;\n",
       "    }\n",
       "\n",
       "    .dataframe tbody tr th {\n",
       "        vertical-align: top;\n",
       "    }\n",
       "\n",
       "    .dataframe thead th {\n",
       "        text-align: right;\n",
       "    }\n",
       "</style>\n",
       "<table border=\"1\" class=\"dataframe\">\n",
       "  <thead>\n",
       "    <tr style=\"text-align: right;\">\n",
       "      <th></th>\n",
       "      <th>pixel0</th>\n",
       "      <th>pixel1</th>\n",
       "      <th>pixel2</th>\n",
       "      <th>pixel3</th>\n",
       "      <th>pixel4</th>\n",
       "      <th>pixel5</th>\n",
       "      <th>pixel6</th>\n",
       "      <th>pixel7</th>\n",
       "      <th>pixel8</th>\n",
       "      <th>pixel9</th>\n",
       "      <th>...</th>\n",
       "      <th>pixel774</th>\n",
       "      <th>pixel775</th>\n",
       "      <th>pixel776</th>\n",
       "      <th>pixel777</th>\n",
       "      <th>pixel778</th>\n",
       "      <th>pixel779</th>\n",
       "      <th>pixel780</th>\n",
       "      <th>pixel781</th>\n",
       "      <th>pixel782</th>\n",
       "      <th>pixel783</th>\n",
       "    </tr>\n",
       "  </thead>\n",
       "  <tbody>\n",
       "    <tr>\n",
       "      <th>0</th>\n",
       "      <td>0</td>\n",
       "      <td>0</td>\n",
       "      <td>0</td>\n",
       "      <td>0</td>\n",
       "      <td>0</td>\n",
       "      <td>0</td>\n",
       "      <td>0</td>\n",
       "      <td>0</td>\n",
       "      <td>0</td>\n",
       "      <td>0</td>\n",
       "      <td>...</td>\n",
       "      <td>0</td>\n",
       "      <td>0</td>\n",
       "      <td>0</td>\n",
       "      <td>0</td>\n",
       "      <td>0</td>\n",
       "      <td>0</td>\n",
       "      <td>0</td>\n",
       "      <td>0</td>\n",
       "      <td>0</td>\n",
       "      <td>0</td>\n",
       "    </tr>\n",
       "    <tr>\n",
       "      <th>1</th>\n",
       "      <td>0</td>\n",
       "      <td>0</td>\n",
       "      <td>0</td>\n",
       "      <td>0</td>\n",
       "      <td>0</td>\n",
       "      <td>0</td>\n",
       "      <td>0</td>\n",
       "      <td>0</td>\n",
       "      <td>0</td>\n",
       "      <td>0</td>\n",
       "      <td>...</td>\n",
       "      <td>0</td>\n",
       "      <td>0</td>\n",
       "      <td>0</td>\n",
       "      <td>0</td>\n",
       "      <td>0</td>\n",
       "      <td>0</td>\n",
       "      <td>0</td>\n",
       "      <td>0</td>\n",
       "      <td>0</td>\n",
       "      <td>0</td>\n",
       "    </tr>\n",
       "    <tr>\n",
       "      <th>2</th>\n",
       "      <td>0</td>\n",
       "      <td>0</td>\n",
       "      <td>0</td>\n",
       "      <td>0</td>\n",
       "      <td>0</td>\n",
       "      <td>0</td>\n",
       "      <td>0</td>\n",
       "      <td>0</td>\n",
       "      <td>0</td>\n",
       "      <td>0</td>\n",
       "      <td>...</td>\n",
       "      <td>0</td>\n",
       "      <td>0</td>\n",
       "      <td>0</td>\n",
       "      <td>0</td>\n",
       "      <td>0</td>\n",
       "      <td>0</td>\n",
       "      <td>0</td>\n",
       "      <td>0</td>\n",
       "      <td>0</td>\n",
       "      <td>0</td>\n",
       "    </tr>\n",
       "    <tr>\n",
       "      <th>3</th>\n",
       "      <td>0</td>\n",
       "      <td>0</td>\n",
       "      <td>0</td>\n",
       "      <td>0</td>\n",
       "      <td>0</td>\n",
       "      <td>0</td>\n",
       "      <td>0</td>\n",
       "      <td>0</td>\n",
       "      <td>0</td>\n",
       "      <td>0</td>\n",
       "      <td>...</td>\n",
       "      <td>0</td>\n",
       "      <td>0</td>\n",
       "      <td>0</td>\n",
       "      <td>0</td>\n",
       "      <td>0</td>\n",
       "      <td>0</td>\n",
       "      <td>0</td>\n",
       "      <td>0</td>\n",
       "      <td>0</td>\n",
       "      <td>0</td>\n",
       "    </tr>\n",
       "    <tr>\n",
       "      <th>4</th>\n",
       "      <td>0</td>\n",
       "      <td>0</td>\n",
       "      <td>0</td>\n",
       "      <td>0</td>\n",
       "      <td>0</td>\n",
       "      <td>0</td>\n",
       "      <td>0</td>\n",
       "      <td>0</td>\n",
       "      <td>0</td>\n",
       "      <td>0</td>\n",
       "      <td>...</td>\n",
       "      <td>0</td>\n",
       "      <td>0</td>\n",
       "      <td>0</td>\n",
       "      <td>0</td>\n",
       "      <td>0</td>\n",
       "      <td>0</td>\n",
       "      <td>0</td>\n",
       "      <td>0</td>\n",
       "      <td>0</td>\n",
       "      <td>0</td>\n",
       "    </tr>\n",
       "    <tr>\n",
       "      <th>...</th>\n",
       "      <td>...</td>\n",
       "      <td>...</td>\n",
       "      <td>...</td>\n",
       "      <td>...</td>\n",
       "      <td>...</td>\n",
       "      <td>...</td>\n",
       "      <td>...</td>\n",
       "      <td>...</td>\n",
       "      <td>...</td>\n",
       "      <td>...</td>\n",
       "      <td>...</td>\n",
       "      <td>...</td>\n",
       "      <td>...</td>\n",
       "      <td>...</td>\n",
       "      <td>...</td>\n",
       "      <td>...</td>\n",
       "      <td>...</td>\n",
       "      <td>...</td>\n",
       "      <td>...</td>\n",
       "      <td>...</td>\n",
       "      <td>...</td>\n",
       "    </tr>\n",
       "    <tr>\n",
       "      <th>41995</th>\n",
       "      <td>0</td>\n",
       "      <td>0</td>\n",
       "      <td>0</td>\n",
       "      <td>0</td>\n",
       "      <td>0</td>\n",
       "      <td>0</td>\n",
       "      <td>0</td>\n",
       "      <td>0</td>\n",
       "      <td>0</td>\n",
       "      <td>0</td>\n",
       "      <td>...</td>\n",
       "      <td>0</td>\n",
       "      <td>0</td>\n",
       "      <td>0</td>\n",
       "      <td>0</td>\n",
       "      <td>0</td>\n",
       "      <td>0</td>\n",
       "      <td>0</td>\n",
       "      <td>0</td>\n",
       "      <td>0</td>\n",
       "      <td>0</td>\n",
       "    </tr>\n",
       "    <tr>\n",
       "      <th>41996</th>\n",
       "      <td>0</td>\n",
       "      <td>0</td>\n",
       "      <td>0</td>\n",
       "      <td>0</td>\n",
       "      <td>0</td>\n",
       "      <td>0</td>\n",
       "      <td>0</td>\n",
       "      <td>0</td>\n",
       "      <td>0</td>\n",
       "      <td>0</td>\n",
       "      <td>...</td>\n",
       "      <td>0</td>\n",
       "      <td>0</td>\n",
       "      <td>0</td>\n",
       "      <td>0</td>\n",
       "      <td>0</td>\n",
       "      <td>0</td>\n",
       "      <td>0</td>\n",
       "      <td>0</td>\n",
       "      <td>0</td>\n",
       "      <td>0</td>\n",
       "    </tr>\n",
       "    <tr>\n",
       "      <th>41997</th>\n",
       "      <td>0</td>\n",
       "      <td>0</td>\n",
       "      <td>0</td>\n",
       "      <td>0</td>\n",
       "      <td>0</td>\n",
       "      <td>0</td>\n",
       "      <td>0</td>\n",
       "      <td>0</td>\n",
       "      <td>0</td>\n",
       "      <td>0</td>\n",
       "      <td>...</td>\n",
       "      <td>0</td>\n",
       "      <td>0</td>\n",
       "      <td>0</td>\n",
       "      <td>0</td>\n",
       "      <td>0</td>\n",
       "      <td>0</td>\n",
       "      <td>0</td>\n",
       "      <td>0</td>\n",
       "      <td>0</td>\n",
       "      <td>0</td>\n",
       "    </tr>\n",
       "    <tr>\n",
       "      <th>41998</th>\n",
       "      <td>0</td>\n",
       "      <td>0</td>\n",
       "      <td>0</td>\n",
       "      <td>0</td>\n",
       "      <td>0</td>\n",
       "      <td>0</td>\n",
       "      <td>0</td>\n",
       "      <td>0</td>\n",
       "      <td>0</td>\n",
       "      <td>0</td>\n",
       "      <td>...</td>\n",
       "      <td>0</td>\n",
       "      <td>0</td>\n",
       "      <td>0</td>\n",
       "      <td>0</td>\n",
       "      <td>0</td>\n",
       "      <td>0</td>\n",
       "      <td>0</td>\n",
       "      <td>0</td>\n",
       "      <td>0</td>\n",
       "      <td>0</td>\n",
       "    </tr>\n",
       "    <tr>\n",
       "      <th>41999</th>\n",
       "      <td>0</td>\n",
       "      <td>0</td>\n",
       "      <td>0</td>\n",
       "      <td>0</td>\n",
       "      <td>0</td>\n",
       "      <td>0</td>\n",
       "      <td>0</td>\n",
       "      <td>0</td>\n",
       "      <td>0</td>\n",
       "      <td>0</td>\n",
       "      <td>...</td>\n",
       "      <td>0</td>\n",
       "      <td>0</td>\n",
       "      <td>0</td>\n",
       "      <td>0</td>\n",
       "      <td>0</td>\n",
       "      <td>0</td>\n",
       "      <td>0</td>\n",
       "      <td>0</td>\n",
       "      <td>0</td>\n",
       "      <td>0</td>\n",
       "    </tr>\n",
       "  </tbody>\n",
       "</table>\n",
       "<p>42000 rows × 784 columns</p>\n",
       "</div>"
      ],
      "text/plain": [
       "       pixel0  pixel1  pixel2  pixel3  pixel4  pixel5  pixel6  pixel7  pixel8  \\\n",
       "0           0       0       0       0       0       0       0       0       0   \n",
       "1           0       0       0       0       0       0       0       0       0   \n",
       "2           0       0       0       0       0       0       0       0       0   \n",
       "3           0       0       0       0       0       0       0       0       0   \n",
       "4           0       0       0       0       0       0       0       0       0   \n",
       "...       ...     ...     ...     ...     ...     ...     ...     ...     ...   \n",
       "41995       0       0       0       0       0       0       0       0       0   \n",
       "41996       0       0       0       0       0       0       0       0       0   \n",
       "41997       0       0       0       0       0       0       0       0       0   \n",
       "41998       0       0       0       0       0       0       0       0       0   \n",
       "41999       0       0       0       0       0       0       0       0       0   \n",
       "\n",
       "       pixel9  ...  pixel774  pixel775  pixel776  pixel777  pixel778  \\\n",
       "0           0  ...         0         0         0         0         0   \n",
       "1           0  ...         0         0         0         0         0   \n",
       "2           0  ...         0         0         0         0         0   \n",
       "3           0  ...         0         0         0         0         0   \n",
       "4           0  ...         0         0         0         0         0   \n",
       "...       ...  ...       ...       ...       ...       ...       ...   \n",
       "41995       0  ...         0         0         0         0         0   \n",
       "41996       0  ...         0         0         0         0         0   \n",
       "41997       0  ...         0         0         0         0         0   \n",
       "41998       0  ...         0         0         0         0         0   \n",
       "41999       0  ...         0         0         0         0         0   \n",
       "\n",
       "       pixel779  pixel780  pixel781  pixel782  pixel783  \n",
       "0             0         0         0         0         0  \n",
       "1             0         0         0         0         0  \n",
       "2             0         0         0         0         0  \n",
       "3             0         0         0         0         0  \n",
       "4             0         0         0         0         0  \n",
       "...         ...       ...       ...       ...       ...  \n",
       "41995         0         0         0         0         0  \n",
       "41996         0         0         0         0         0  \n",
       "41997         0         0         0         0         0  \n",
       "41998         0         0         0         0         0  \n",
       "41999         0         0         0         0         0  \n",
       "\n",
       "[42000 rows x 784 columns]"
      ]
     },
     "execution_count": 4,
     "metadata": {},
     "output_type": "execute_result"
    }
   ],
   "source": [
    "label = df['label']\n",
    "df = df.drop('label', axis=1)\n",
    "df"
   ]
  },
  {
   "cell_type": "markdown",
   "id": "cd999cec",
   "metadata": {
    "papermill": {
     "duration": 0.015428,
     "end_time": "2022-02-18T09:49:22.054397",
     "exception": false,
     "start_time": "2022-02-18T09:49:22.038969",
     "status": "completed"
    },
    "tags": []
   },
   "source": []
  },
  {
   "cell_type": "code",
   "execution_count": 5,
   "id": "efcbe140",
   "metadata": {
    "execution": {
     "iopub.execute_input": "2022-02-18T09:49:22.096033Z",
     "iopub.status.busy": "2022-02-18T09:49:22.095196Z",
     "iopub.status.idle": "2022-02-18T09:49:24.341942Z",
     "shell.execute_reply": "2022-02-18T09:49:24.340998Z",
     "shell.execute_reply.started": "2022-02-18T09:45:10.174566Z"
    },
    "papermill": {
     "duration": 2.272268,
     "end_time": "2022-02-18T09:49:24.342177",
     "exception": false,
     "start_time": "2022-02-18T09:49:22.069909",
     "status": "completed"
    },
    "tags": []
   },
   "outputs": [
    {
     "name": "stdout",
     "output_type": "stream",
     "text": [
      "(42000, 28, 28, 1)\n"
     ]
    }
   ],
   "source": [
    "def preprocessing(df):\n",
    "    images = []\n",
    "    for index, row in df.iterrows():\n",
    "        row = row.to_numpy()\n",
    "        row = row\n",
    "        row = row.astype(np.uint8)\n",
    "        row = np.reshape(row,(28,28,1))\n",
    "        images.append(row)\n",
    "\n",
    "    images = np.array(images)\n",
    "\n",
    "    print(images.shape)\n",
    "    \n",
    "    return images\n",
    "\n",
    "images = preprocessing(df)"
   ]
  },
  {
   "cell_type": "code",
   "execution_count": 6,
   "id": "fab23554",
   "metadata": {
    "execution": {
     "iopub.execute_input": "2022-02-18T09:49:24.381030Z",
     "iopub.status.busy": "2022-02-18T09:49:24.379991Z",
     "iopub.status.idle": "2022-02-18T09:49:25.509074Z",
     "shell.execute_reply": "2022-02-18T09:49:25.508484Z",
     "shell.execute_reply.started": "2022-02-18T09:45:13.481472Z"
    },
    "papermill": {
     "duration": 1.149336,
     "end_time": "2022-02-18T09:49:25.509232",
     "exception": false,
     "start_time": "2022-02-18T09:49:24.359896",
     "status": "completed"
    },
    "tags": []
   },
   "outputs": [],
   "source": [
    "class myCallback(keras.callbacks.Callback):\n",
    "    def on_epoch_end(self, epoch, logs=None):\n",
    "        if logs.get('accuracy') > 0.995:\n",
    "            print(\"\\nAccuracy is high cancelling training.\")\n",
    "            self.model.stop_training = True"
   ]
  },
  {
   "cell_type": "code",
   "execution_count": 7,
   "id": "36934f71",
   "metadata": {
    "execution": {
     "iopub.execute_input": "2022-02-18T09:49:25.550130Z",
     "iopub.status.busy": "2022-02-18T09:49:25.549081Z",
     "iopub.status.idle": "2022-02-18T09:49:25.551883Z",
     "shell.execute_reply": "2022-02-18T09:49:25.551226Z",
     "shell.execute_reply.started": "2022-02-18T09:45:13.490738Z"
    },
    "papermill": {
     "duration": 0.026536,
     "end_time": "2022-02-18T09:49:25.552022",
     "exception": false,
     "start_time": "2022-02-18T09:49:25.525486",
     "status": "completed"
    },
    "tags": []
   },
   "outputs": [],
   "source": [
    "def convolutional_model():\n",
    "\n",
    "    # Define the model, it should have 5 layers:\n",
    "    # - A Conv2D layer with 32 filters, a kernel_size of 3x3, ReLU activation function\n",
    "    #    and an input shape that matches that of every image in the training set\n",
    "    # - A MaxPooling2D layer with a pool_size of 2x2\n",
    "    # - A Flatten layer with no arguments\n",
    "    # - A Dense layer with 128 units and ReLU activation function\n",
    "    # - A Dense layer with 10 units and softmax activation function\n",
    "    \n",
    "    model = tf.keras.models.Sequential([ \n",
    "        \n",
    "      tf.keras.layers.Conv2D(32,(3,3),activation='relu',input_shape=(28,28,1)),\n",
    "      tf.keras.layers.MaxPooling2D(2,2),\n",
    "        \n",
    "      tf.keras.layers.Flatten(),\n",
    "      tf.keras.layers.Dense(128,activation='relu'),\n",
    "      tf.keras.layers.Dense(10,activation='softmax')\n",
    "        \n",
    "    ]) \n",
    "\n",
    "    # Compile the model\n",
    "    model.compile(optimizer='adam', \n",
    "                  loss='sparse_categorical_crossentropy', \n",
    "                  metrics=['accuracy']) \n",
    "        \n",
    "    return model"
   ]
  },
  {
   "cell_type": "code",
   "execution_count": 8,
   "id": "41459d13",
   "metadata": {
    "execution": {
     "iopub.execute_input": "2022-02-18T09:49:25.589743Z",
     "iopub.status.busy": "2022-02-18T09:49:25.588976Z",
     "iopub.status.idle": "2022-02-18T09:51:48.296620Z",
     "shell.execute_reply": "2022-02-18T09:51:48.297126Z",
     "shell.execute_reply.started": "2022-02-18T09:45:13.505600Z"
    },
    "papermill": {
     "duration": 142.729311,
     "end_time": "2022-02-18T09:51:48.297379",
     "exception": false,
     "start_time": "2022-02-18T09:49:25.568068",
     "status": "completed"
    },
    "tags": []
   },
   "outputs": [
    {
     "name": "stderr",
     "output_type": "stream",
     "text": [
      "2022-02-18 09:49:25.632185: I tensorflow/core/common_runtime/process_util.cc:146] Creating new thread pool with default inter op setting: 2. Tune using inter_op_parallelism_threads for best performance.\n",
      "2022-02-18 09:49:25.811081: I tensorflow/compiler/mlir/mlir_graph_optimization_pass.cc:185] None of the MLIR Optimization Passes are enabled (registered 2)\n"
     ]
    },
    {
     "name": "stdout",
     "output_type": "stream",
     "text": [
      "Epoch 1/10\n",
      "1313/1313 [==============================] - 11s 8ms/step - loss: 0.7802 - accuracy: 0.9174\n",
      "Epoch 2/10\n",
      "1313/1313 [==============================] - 10s 8ms/step - loss: 0.0948 - accuracy: 0.9715\n",
      "Epoch 3/10\n",
      "1313/1313 [==============================] - 11s 8ms/step - loss: 0.0600 - accuracy: 0.9818\n",
      "Epoch 4/10\n",
      "1313/1313 [==============================] - 10s 8ms/step - loss: 0.0490 - accuracy: 0.9842\n",
      "Epoch 5/10\n",
      "1313/1313 [==============================] - 10s 8ms/step - loss: 0.0371 - accuracy: 0.9886\n",
      "Epoch 6/10\n",
      "1313/1313 [==============================] - 11s 8ms/step - loss: 0.0369 - accuracy: 0.9880\n",
      "Epoch 7/10\n",
      "1313/1313 [==============================] - 10s 8ms/step - loss: 0.0264 - accuracy: 0.9915\n",
      "Epoch 8/10\n",
      "1313/1313 [==============================] - 10s 8ms/step - loss: 0.0257 - accuracy: 0.9921\n",
      "Epoch 9/10\n",
      "1313/1313 [==============================] - 11s 9ms/step - loss: 0.0212 - accuracy: 0.9932\n",
      "Epoch 10/10\n",
      "1313/1313 [==============================] - 10s 8ms/step - loss: 0.0182 - accuracy: 0.9946\n"
     ]
    }
   ],
   "source": [
    "# Save your untrained model\n",
    "model = convolutional_model()\n",
    "\n",
    "# Instantiate the callback class\n",
    "callbacks = myCallback()\n",
    "\n",
    "# Train your model (this can take up to 5 minutes)\n",
    "history = model.fit(images, label, epochs=10, callbacks=[callbacks])"
   ]
  },
  {
   "cell_type": "code",
   "execution_count": 9,
   "id": "be562e21",
   "metadata": {
    "execution": {
     "iopub.execute_input": "2022-02-18T09:51:49.766094Z",
     "iopub.status.busy": "2022-02-18T09:51:49.764916Z",
     "iopub.status.idle": "2022-02-18T09:51:51.982411Z",
     "shell.execute_reply": "2022-02-18T09:51:51.981412Z",
     "shell.execute_reply.started": "2022-02-18T09:47:16.127400Z"
    },
    "papermill": {
     "duration": 2.954141,
     "end_time": "2022-02-18T09:51:51.982562",
     "exception": false,
     "start_time": "2022-02-18T09:51:49.028421",
     "status": "completed"
    },
    "tags": []
   },
   "outputs": [
    {
     "data": {
      "text/plain": [
       "Index(['pixel0', 'pixel1', 'pixel2', 'pixel3', 'pixel4', 'pixel5', 'pixel6',\n",
       "       'pixel7', 'pixel8', 'pixel9',\n",
       "       ...\n",
       "       'pixel774', 'pixel775', 'pixel776', 'pixel777', 'pixel778', 'pixel779',\n",
       "       'pixel780', 'pixel781', 'pixel782', 'pixel783'],\n",
       "      dtype='object', length=784)"
      ]
     },
     "execution_count": 9,
     "metadata": {},
     "output_type": "execute_result"
    }
   ],
   "source": [
    "test = pd.read_csv(\"../input/digit-recognizer/test.csv\")\n",
    "test.columns"
   ]
  },
  {
   "cell_type": "code",
   "execution_count": 10,
   "id": "83dff699",
   "metadata": {
    "execution": {
     "iopub.execute_input": "2022-02-18T09:51:53.466682Z",
     "iopub.status.busy": "2022-02-18T09:51:53.465543Z",
     "iopub.status.idle": "2022-02-18T09:51:57.179886Z",
     "shell.execute_reply": "2022-02-18T09:51:57.180438Z",
     "shell.execute_reply.started": "2022-02-18T09:47:18.050877Z"
    },
    "papermill": {
     "duration": 4.460572,
     "end_time": "2022-02-18T09:51:57.180618",
     "exception": false,
     "start_time": "2022-02-18T09:51:52.720046",
     "status": "completed"
    },
    "tags": []
   },
   "outputs": [
    {
     "name": "stdout",
     "output_type": "stream",
     "text": [
      "(28000, 28, 28, 1)\n",
      "<class 'numpy.ndarray'>\n"
     ]
    }
   ],
   "source": [
    "test_images = preprocessing(test)\n",
    "\n",
    "y_prob = model.predict(test_images) \n",
    "y_classes = y_prob.argmax(axis=-1)\n",
    "print(type(y_classes))"
   ]
  },
  {
   "cell_type": "code",
   "execution_count": 11,
   "id": "edbc168d",
   "metadata": {
    "execution": {
     "iopub.execute_input": "2022-02-18T09:51:58.645503Z",
     "iopub.status.busy": "2022-02-18T09:51:58.644808Z",
     "iopub.status.idle": "2022-02-18T09:51:58.703782Z",
     "shell.execute_reply": "2022-02-18T09:51:58.703166Z",
     "shell.execute_reply.started": "2022-02-18T09:47:22.629065Z"
    },
    "papermill": {
     "duration": 0.793841,
     "end_time": "2022-02-18T09:51:58.703943",
     "exception": false,
     "start_time": "2022-02-18T09:51:57.910102",
     "status": "completed"
    },
    "tags": []
   },
   "outputs": [],
   "source": [
    "sub = pd.DataFrame(y_classes, columns = ['Label'])\n",
    "sub['ImageId'] = np.arange(1,len(sub)+1)\n",
    "sub = sub[['ImageId','Label']]\n",
    "sub.to_csv('submission.csv', index=False)"
   ]
  },
  {
   "cell_type": "code",
   "execution_count": null,
   "id": "d0c4a612",
   "metadata": {
    "papermill": {
     "duration": 0.730489,
     "end_time": "2022-02-18T09:52:00.174555",
     "exception": false,
     "start_time": "2022-02-18T09:51:59.444066",
     "status": "completed"
    },
    "tags": []
   },
   "outputs": [],
   "source": []
  }
 ],
 "metadata": {
  "kernelspec": {
   "display_name": "Python 3",
   "language": "python",
   "name": "python3"
  },
  "language_info": {
   "codemirror_mode": {
    "name": "ipython",
    "version": 3
   },
   "file_extension": ".py",
   "mimetype": "text/x-python",
   "name": "python",
   "nbconvert_exporter": "python",
   "pygments_lexer": "ipython3",
   "version": "3.7.12"
  },
  "papermill": {
   "default_parameters": {},
   "duration": 182.990827,
   "end_time": "2022-02-18T09:52:04.381053",
   "environment_variables": {},
   "exception": null,
   "input_path": "__notebook__.ipynb",
   "output_path": "__notebook__.ipynb",
   "parameters": {},
   "start_time": "2022-02-18T09:49:01.390226",
   "version": "2.3.3"
  }
 },
 "nbformat": 4,
 "nbformat_minor": 5
}
